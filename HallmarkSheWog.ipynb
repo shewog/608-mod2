{
 "cells": [
  {
   "cell_type": "code",
   "execution_count": 1,
   "id": "ad834803-ea9c-48e9-b84b-9b8783f0f674",
   "metadata": {},
   "outputs": [],
   "source": [
    "import statistics"
   ]
  },
  {
   "cell_type": "code",
   "execution_count": 8,
   "id": "950f4c35-1302-4cfc-8511-32fd1f367492",
   "metadata": {},
   "outputs": [],
   "source": [
    "Signature_Footages = [8,12,20,4,4,4,4,3,20,16,16,20,8,8,8,8,12,4,4,3,8,3,16,12,12,12,12,20,8,8,4,4,4,4,4,6,4,8,7,16,20,20,2,3,4,4,4,4,7,8,8,12,8,12,20,4,4,4,4,3,20,16,16,20,8,8,8,8,12,4,4,3,8,3,16,12,12,12,12,20,8,8,4,4,4,4,4,6,4,8,7,16,20,20,2,3,4,4,4,4,7,8,8,12,12,20,4,4,4,4,3,20,16,16,20,8,8,8,8,12,4,4,3,8,3,16,12,12,12,12,20,8,8,4,4,4,4,4,6,4,8,7,16,20,20,2,3,4,4,4,4,7,8,8,12]"
   ]
  },
  {
   "cell_type": "code",
   "execution_count": 14,
   "id": "0cc90304-c108-41f0-94fc-7fbf7a330b91",
   "metadata": {},
   "outputs": [
    {
     "data": {
      "text/plain": [
       "8.735483870967743"
      ]
     },
     "execution_count": 14,
     "metadata": {},
     "output_type": "execute_result"
    }
   ],
   "source": [
    "statistics.mean(Signature_Footages)"
   ]
  },
  {
   "cell_type": "code",
   "execution_count": 15,
   "id": "59cf1698-bc95-455f-8ed5-0a515d8f41ea",
   "metadata": {},
   "outputs": [
    {
     "data": {
      "text/plain": [
       "8"
      ]
     },
     "execution_count": 15,
     "metadata": {},
     "output_type": "execute_result"
    }
   ],
   "source": [
    "statistics.median(Signature_Footages)"
   ]
  },
  {
   "cell_type": "code",
   "execution_count": 16,
   "id": "c79aa0ca-5904-4784-94a8-223e96e2d24e",
   "metadata": {},
   "outputs": [
    {
     "data": {
      "text/plain": [
       "4"
      ]
     },
     "execution_count": 16,
     "metadata": {},
     "output_type": "execute_result"
    }
   ],
   "source": [
    "statistics.mode(Signature_Footages)"
   ]
  },
  {
   "cell_type": "code",
   "execution_count": 17,
   "id": "fb5dd6c5-0cdd-43fb-bc04-7c0ec6418fe2",
   "metadata": {},
   "outputs": [
    {
     "data": {
      "text/plain": [
       "20"
      ]
     },
     "execution_count": 17,
     "metadata": {},
     "output_type": "execute_result"
    }
   ],
   "source": [
    "max(Signature_Footages)"
   ]
  },
  {
   "cell_type": "code",
   "execution_count": 18,
   "id": "1a169730-1d45-4042-b17e-011afd8f7b8d",
   "metadata": {},
   "outputs": [
    {
     "data": {
      "text/plain": [
       "2"
      ]
     },
     "execution_count": 18,
     "metadata": {},
     "output_type": "execute_result"
    }
   ],
   "source": [
    "min(Signature_Footages)"
   ]
  }
 ],
 "metadata": {
  "kernelspec": {
   "display_name": "Python 3 (ipykernel)",
   "language": "python",
   "name": "python3"
  },
  "language_info": {
   "codemirror_mode": {
    "name": "ipython",
    "version": 3
   },
   "file_extension": ".py",
   "mimetype": "text/x-python",
   "name": "python",
   "nbconvert_exporter": "python",
   "pygments_lexer": "ipython3",
   "version": "3.9.12"
  }
 },
 "nbformat": 4,
 "nbformat_minor": 5
}
